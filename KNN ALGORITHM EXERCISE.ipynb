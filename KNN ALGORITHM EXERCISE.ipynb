{
 "cells": [
  {
   "cell_type": "markdown",
   "id": "288fd9d8",
   "metadata": {},
   "source": [
    "# Problem Statement\n",
    "#The Iris dataset contains measurements of four features—sepal length, sepal width, petal length, and petal width—for three different species of iris flowers: Iris Setosa, Iris Versicolor, and Iris Virginica.\n",
    "The goal of this analysis is to use the K-NN algorithm to Create feature and target variables.Split data into training and test data. Generate a k-NN model using neighbors value.Train or fit the data into the model. Predict the future."
   ]
  },
  {
   "cell_type": "markdown",
   "id": "31fe6f31",
   "metadata": {},
   "source": [
    "# importing the library\n"
   ]
  },
  {
   "cell_type": "code",
   "execution_count": 228,
   "id": "7ff6688e",
   "metadata": {},
   "outputs": [],
   "source": [
    "from sklearn.neighbors import KNeighborsClassifier\n",
    "from sklearn.model_selection import train_test_split\n",
    "from sklearn.datasets import load_iris\n",
    "import numpy as np\n",
    "import matplotlib.pyplot as plt"
   ]
  },
  {
   "cell_type": "markdown",
   "id": "f35fff25",
   "metadata": {},
   "source": [
    "# iris dataset set is inbuilt in sklearn lib so here I load the data"
   ]
  },
  {
   "cell_type": "code",
   "execution_count": 229,
   "id": "486f0f2c",
   "metadata": {},
   "outputs": [],
   "source": [
    "irisData=load_iris()"
   ]
  },
  {
   "cell_type": "code",
   "execution_count": 230,
   "id": "b7c50d98",
   "metadata": {},
   "outputs": [
    {
     "name": "stdout",
     "output_type": "stream",
     "text": [
      "['DESCR', 'data', 'data_module', 'feature_names', 'filename', 'frame', 'target', 'target_names']\n"
     ]
    }
   ],
   "source": [
    "print(dir(irisData))"
   ]
  },
  {
   "cell_type": "markdown",
   "id": "38166df4",
   "metadata": {},
   "source": [
    "# to understanding about feature_names in dataset"
   ]
  },
  {
   "cell_type": "code",
   "execution_count": 231,
   "id": "d96753fe",
   "metadata": {},
   "outputs": [
    {
     "data": {
      "text/plain": [
       "['sepal length (cm)',\n",
       " 'sepal width (cm)',\n",
       " 'petal length (cm)',\n",
       " 'petal width (cm)']"
      ]
     },
     "execution_count": 231,
     "metadata": {},
     "output_type": "execute_result"
    }
   ],
   "source": [
    "irisData.feature_names"
   ]
  },
  {
   "cell_type": "markdown",
   "id": "0ac4a1d3",
   "metadata": {},
   "source": [
    "# to understanding about target_names"
   ]
  },
  {
   "cell_type": "code",
   "execution_count": 232,
   "id": "369bdd17",
   "metadata": {},
   "outputs": [
    {
     "data": {
      "text/plain": [
       "array(['setosa', 'versicolor', 'virginica'], dtype='<U10')"
      ]
     },
     "execution_count": 232,
     "metadata": {},
     "output_type": "execute_result"
    }
   ],
   "source": [
    "irisData.target_names"
   ]
  },
  {
   "cell_type": "markdown",
   "id": "b62baba3",
   "metadata": {},
   "source": [
    "# creating the dataframe for checking the whole dataset for ex:head,tail,null or not,description,shapes or colums "
   ]
  },
  {
   "cell_type": "code",
   "execution_count": 233,
   "id": "35dfc407",
   "metadata": {},
   "outputs": [
    {
     "data": {
      "text/plain": [
       "<bound method NDFrame.head of      sepal length (cm)  sepal width (cm)  petal length (cm)  petal width (cm)\n",
       "0                  5.1               3.5                1.4               0.2\n",
       "1                  4.9               3.0                1.4               0.2\n",
       "2                  4.7               3.2                1.3               0.2\n",
       "3                  4.6               3.1                1.5               0.2\n",
       "4                  5.0               3.6                1.4               0.2\n",
       "..                 ...               ...                ...               ...\n",
       "145                6.7               3.0                5.2               2.3\n",
       "146                6.3               2.5                5.0               1.9\n",
       "147                6.5               3.0                5.2               2.0\n",
       "148                6.2               3.4                5.4               2.3\n",
       "149                5.9               3.0                5.1               1.8\n",
       "\n",
       "[150 rows x 4 columns]>"
      ]
     },
     "execution_count": 233,
     "metadata": {},
     "output_type": "execute_result"
    }
   ],
   "source": [
    "df=pd.DataFrame(irisData.data,columns=iris.feature_names)\n",
    "df.head"
   ]
  },
  {
   "cell_type": "code",
   "execution_count": 234,
   "id": "021dadfe",
   "metadata": {},
   "outputs": [
    {
     "data": {
      "text/html": [
       "<div>\n",
       "<style scoped>\n",
       "    .dataframe tbody tr th:only-of-type {\n",
       "        vertical-align: middle;\n",
       "    }\n",
       "\n",
       "    .dataframe tbody tr th {\n",
       "        vertical-align: top;\n",
       "    }\n",
       "\n",
       "    .dataframe thead th {\n",
       "        text-align: right;\n",
       "    }\n",
       "</style>\n",
       "<table border=\"1\" class=\"dataframe\">\n",
       "  <thead>\n",
       "    <tr style=\"text-align: right;\">\n",
       "      <th></th>\n",
       "      <th>sepal length (cm)</th>\n",
       "      <th>sepal width (cm)</th>\n",
       "      <th>petal length (cm)</th>\n",
       "      <th>petal width (cm)</th>\n",
       "    </tr>\n",
       "  </thead>\n",
       "  <tbody>\n",
       "    <tr>\n",
       "      <th>145</th>\n",
       "      <td>6.7</td>\n",
       "      <td>3.0</td>\n",
       "      <td>5.2</td>\n",
       "      <td>2.3</td>\n",
       "    </tr>\n",
       "    <tr>\n",
       "      <th>146</th>\n",
       "      <td>6.3</td>\n",
       "      <td>2.5</td>\n",
       "      <td>5.0</td>\n",
       "      <td>1.9</td>\n",
       "    </tr>\n",
       "    <tr>\n",
       "      <th>147</th>\n",
       "      <td>6.5</td>\n",
       "      <td>3.0</td>\n",
       "      <td>5.2</td>\n",
       "      <td>2.0</td>\n",
       "    </tr>\n",
       "    <tr>\n",
       "      <th>148</th>\n",
       "      <td>6.2</td>\n",
       "      <td>3.4</td>\n",
       "      <td>5.4</td>\n",
       "      <td>2.3</td>\n",
       "    </tr>\n",
       "    <tr>\n",
       "      <th>149</th>\n",
       "      <td>5.9</td>\n",
       "      <td>3.0</td>\n",
       "      <td>5.1</td>\n",
       "      <td>1.8</td>\n",
       "    </tr>\n",
       "  </tbody>\n",
       "</table>\n",
       "</div>"
      ],
      "text/plain": [
       "     sepal length (cm)  sepal width (cm)  petal length (cm)  petal width (cm)\n",
       "145                6.7               3.0                5.2               2.3\n",
       "146                6.3               2.5                5.0               1.9\n",
       "147                6.5               3.0                5.2               2.0\n",
       "148                6.2               3.4                5.4               2.3\n",
       "149                5.9               3.0                5.1               1.8"
      ]
     },
     "execution_count": 234,
     "metadata": {},
     "output_type": "execute_result"
    }
   ],
   "source": [
    "df.tail()"
   ]
  },
  {
   "cell_type": "code",
   "execution_count": 235,
   "id": "090f154b",
   "metadata": {},
   "outputs": [
    {
     "data": {
      "text/html": [
       "<div>\n",
       "<style scoped>\n",
       "    .dataframe tbody tr th:only-of-type {\n",
       "        vertical-align: middle;\n",
       "    }\n",
       "\n",
       "    .dataframe tbody tr th {\n",
       "        vertical-align: top;\n",
       "    }\n",
       "\n",
       "    .dataframe thead th {\n",
       "        text-align: right;\n",
       "    }\n",
       "</style>\n",
       "<table border=\"1\" class=\"dataframe\">\n",
       "  <thead>\n",
       "    <tr style=\"text-align: right;\">\n",
       "      <th></th>\n",
       "      <th>sepal length (cm)</th>\n",
       "      <th>sepal width (cm)</th>\n",
       "      <th>petal length (cm)</th>\n",
       "      <th>petal width (cm)</th>\n",
       "    </tr>\n",
       "  </thead>\n",
       "  <tbody>\n",
       "    <tr>\n",
       "      <th>count</th>\n",
       "      <td>150.000000</td>\n",
       "      <td>150.000000</td>\n",
       "      <td>150.000000</td>\n",
       "      <td>150.000000</td>\n",
       "    </tr>\n",
       "    <tr>\n",
       "      <th>mean</th>\n",
       "      <td>5.843333</td>\n",
       "      <td>3.057333</td>\n",
       "      <td>3.758000</td>\n",
       "      <td>1.199333</td>\n",
       "    </tr>\n",
       "    <tr>\n",
       "      <th>std</th>\n",
       "      <td>0.828066</td>\n",
       "      <td>0.435866</td>\n",
       "      <td>1.765298</td>\n",
       "      <td>0.762238</td>\n",
       "    </tr>\n",
       "    <tr>\n",
       "      <th>min</th>\n",
       "      <td>4.300000</td>\n",
       "      <td>2.000000</td>\n",
       "      <td>1.000000</td>\n",
       "      <td>0.100000</td>\n",
       "    </tr>\n",
       "    <tr>\n",
       "      <th>25%</th>\n",
       "      <td>5.100000</td>\n",
       "      <td>2.800000</td>\n",
       "      <td>1.600000</td>\n",
       "      <td>0.300000</td>\n",
       "    </tr>\n",
       "    <tr>\n",
       "      <th>50%</th>\n",
       "      <td>5.800000</td>\n",
       "      <td>3.000000</td>\n",
       "      <td>4.350000</td>\n",
       "      <td>1.300000</td>\n",
       "    </tr>\n",
       "    <tr>\n",
       "      <th>75%</th>\n",
       "      <td>6.400000</td>\n",
       "      <td>3.300000</td>\n",
       "      <td>5.100000</td>\n",
       "      <td>1.800000</td>\n",
       "    </tr>\n",
       "    <tr>\n",
       "      <th>max</th>\n",
       "      <td>7.900000</td>\n",
       "      <td>4.400000</td>\n",
       "      <td>6.900000</td>\n",
       "      <td>2.500000</td>\n",
       "    </tr>\n",
       "  </tbody>\n",
       "</table>\n",
       "</div>"
      ],
      "text/plain": [
       "       sepal length (cm)  sepal width (cm)  petal length (cm)  \\\n",
       "count         150.000000        150.000000         150.000000   \n",
       "mean            5.843333          3.057333           3.758000   \n",
       "std             0.828066          0.435866           1.765298   \n",
       "min             4.300000          2.000000           1.000000   \n",
       "25%             5.100000          2.800000           1.600000   \n",
       "50%             5.800000          3.000000           4.350000   \n",
       "75%             6.400000          3.300000           5.100000   \n",
       "max             7.900000          4.400000           6.900000   \n",
       "\n",
       "       petal width (cm)  \n",
       "count        150.000000  \n",
       "mean           1.199333  \n",
       "std            0.762238  \n",
       "min            0.100000  \n",
       "25%            0.300000  \n",
       "50%            1.300000  \n",
       "75%            1.800000  \n",
       "max            2.500000  "
      ]
     },
     "execution_count": 235,
     "metadata": {},
     "output_type": "execute_result"
    }
   ],
   "source": [
    "df.describe()"
   ]
  },
  {
   "cell_type": "code",
   "execution_count": 236,
   "id": "d5ba83b9",
   "metadata": {},
   "outputs": [
    {
     "data": {
      "text/html": [
       "<div>\n",
       "<style scoped>\n",
       "    .dataframe tbody tr th:only-of-type {\n",
       "        vertical-align: middle;\n",
       "    }\n",
       "\n",
       "    .dataframe tbody tr th {\n",
       "        vertical-align: top;\n",
       "    }\n",
       "\n",
       "    .dataframe thead th {\n",
       "        text-align: right;\n",
       "    }\n",
       "</style>\n",
       "<table border=\"1\" class=\"dataframe\">\n",
       "  <thead>\n",
       "    <tr style=\"text-align: right;\">\n",
       "      <th></th>\n",
       "      <th>sepal length (cm)</th>\n",
       "      <th>sepal width (cm)</th>\n",
       "      <th>petal length (cm)</th>\n",
       "      <th>petal width (cm)</th>\n",
       "    </tr>\n",
       "  </thead>\n",
       "  <tbody>\n",
       "    <tr>\n",
       "      <th>0</th>\n",
       "      <td>5.1</td>\n",
       "      <td>3.5</td>\n",
       "      <td>1.4</td>\n",
       "      <td>0.2</td>\n",
       "    </tr>\n",
       "    <tr>\n",
       "      <th>1</th>\n",
       "      <td>4.9</td>\n",
       "      <td>3.0</td>\n",
       "      <td>1.4</td>\n",
       "      <td>0.2</td>\n",
       "    </tr>\n",
       "    <tr>\n",
       "      <th>2</th>\n",
       "      <td>4.7</td>\n",
       "      <td>3.2</td>\n",
       "      <td>1.3</td>\n",
       "      <td>0.2</td>\n",
       "    </tr>\n",
       "    <tr>\n",
       "      <th>3</th>\n",
       "      <td>4.6</td>\n",
       "      <td>3.1</td>\n",
       "      <td>1.5</td>\n",
       "      <td>0.2</td>\n",
       "    </tr>\n",
       "    <tr>\n",
       "      <th>4</th>\n",
       "      <td>5.0</td>\n",
       "      <td>3.6</td>\n",
       "      <td>1.4</td>\n",
       "      <td>0.2</td>\n",
       "    </tr>\n",
       "    <tr>\n",
       "      <th>...</th>\n",
       "      <td>...</td>\n",
       "      <td>...</td>\n",
       "      <td>...</td>\n",
       "      <td>...</td>\n",
       "    </tr>\n",
       "    <tr>\n",
       "      <th>145</th>\n",
       "      <td>6.7</td>\n",
       "      <td>3.0</td>\n",
       "      <td>5.2</td>\n",
       "      <td>2.3</td>\n",
       "    </tr>\n",
       "    <tr>\n",
       "      <th>146</th>\n",
       "      <td>6.3</td>\n",
       "      <td>2.5</td>\n",
       "      <td>5.0</td>\n",
       "      <td>1.9</td>\n",
       "    </tr>\n",
       "    <tr>\n",
       "      <th>147</th>\n",
       "      <td>6.5</td>\n",
       "      <td>3.0</td>\n",
       "      <td>5.2</td>\n",
       "      <td>2.0</td>\n",
       "    </tr>\n",
       "    <tr>\n",
       "      <th>148</th>\n",
       "      <td>6.2</td>\n",
       "      <td>3.4</td>\n",
       "      <td>5.4</td>\n",
       "      <td>2.3</td>\n",
       "    </tr>\n",
       "    <tr>\n",
       "      <th>149</th>\n",
       "      <td>5.9</td>\n",
       "      <td>3.0</td>\n",
       "      <td>5.1</td>\n",
       "      <td>1.8</td>\n",
       "    </tr>\n",
       "  </tbody>\n",
       "</table>\n",
       "<p>150 rows × 4 columns</p>\n",
       "</div>"
      ],
      "text/plain": [
       "     sepal length (cm)  sepal width (cm)  petal length (cm)  petal width (cm)\n",
       "0                  5.1               3.5                1.4               0.2\n",
       "1                  4.9               3.0                1.4               0.2\n",
       "2                  4.7               3.2                1.3               0.2\n",
       "3                  4.6               3.1                1.5               0.2\n",
       "4                  5.0               3.6                1.4               0.2\n",
       "..                 ...               ...                ...               ...\n",
       "145                6.7               3.0                5.2               2.3\n",
       "146                6.3               2.5                5.0               1.9\n",
       "147                6.5               3.0                5.2               2.0\n",
       "148                6.2               3.4                5.4               2.3\n",
       "149                5.9               3.0                5.1               1.8\n",
       "\n",
       "[150 rows x 4 columns]"
      ]
     },
     "execution_count": 236,
     "metadata": {},
     "output_type": "execute_result"
    }
   ],
   "source": [
    "df"
   ]
  },
  {
   "cell_type": "markdown",
   "id": "4763ae21",
   "metadata": {},
   "source": [
    "# checking whether the given dataset value is null or not\n"
   ]
  },
  {
   "cell_type": "code",
   "execution_count": 237,
   "id": "10170755",
   "metadata": {},
   "outputs": [
    {
     "data": {
      "text/html": [
       "<div>\n",
       "<style scoped>\n",
       "    .dataframe tbody tr th:only-of-type {\n",
       "        vertical-align: middle;\n",
       "    }\n",
       "\n",
       "    .dataframe tbody tr th {\n",
       "        vertical-align: top;\n",
       "    }\n",
       "\n",
       "    .dataframe thead th {\n",
       "        text-align: right;\n",
       "    }\n",
       "</style>\n",
       "<table border=\"1\" class=\"dataframe\">\n",
       "  <thead>\n",
       "    <tr style=\"text-align: right;\">\n",
       "      <th></th>\n",
       "      <th>sepal length (cm)</th>\n",
       "      <th>sepal width (cm)</th>\n",
       "      <th>petal length (cm)</th>\n",
       "      <th>petal width (cm)</th>\n",
       "    </tr>\n",
       "  </thead>\n",
       "  <tbody>\n",
       "    <tr>\n",
       "      <th>0</th>\n",
       "      <td>False</td>\n",
       "      <td>False</td>\n",
       "      <td>False</td>\n",
       "      <td>False</td>\n",
       "    </tr>\n",
       "    <tr>\n",
       "      <th>1</th>\n",
       "      <td>False</td>\n",
       "      <td>False</td>\n",
       "      <td>False</td>\n",
       "      <td>False</td>\n",
       "    </tr>\n",
       "    <tr>\n",
       "      <th>2</th>\n",
       "      <td>False</td>\n",
       "      <td>False</td>\n",
       "      <td>False</td>\n",
       "      <td>False</td>\n",
       "    </tr>\n",
       "    <tr>\n",
       "      <th>3</th>\n",
       "      <td>False</td>\n",
       "      <td>False</td>\n",
       "      <td>False</td>\n",
       "      <td>False</td>\n",
       "    </tr>\n",
       "    <tr>\n",
       "      <th>4</th>\n",
       "      <td>False</td>\n",
       "      <td>False</td>\n",
       "      <td>False</td>\n",
       "      <td>False</td>\n",
       "    </tr>\n",
       "    <tr>\n",
       "      <th>...</th>\n",
       "      <td>...</td>\n",
       "      <td>...</td>\n",
       "      <td>...</td>\n",
       "      <td>...</td>\n",
       "    </tr>\n",
       "    <tr>\n",
       "      <th>145</th>\n",
       "      <td>False</td>\n",
       "      <td>False</td>\n",
       "      <td>False</td>\n",
       "      <td>False</td>\n",
       "    </tr>\n",
       "    <tr>\n",
       "      <th>146</th>\n",
       "      <td>False</td>\n",
       "      <td>False</td>\n",
       "      <td>False</td>\n",
       "      <td>False</td>\n",
       "    </tr>\n",
       "    <tr>\n",
       "      <th>147</th>\n",
       "      <td>False</td>\n",
       "      <td>False</td>\n",
       "      <td>False</td>\n",
       "      <td>False</td>\n",
       "    </tr>\n",
       "    <tr>\n",
       "      <th>148</th>\n",
       "      <td>False</td>\n",
       "      <td>False</td>\n",
       "      <td>False</td>\n",
       "      <td>False</td>\n",
       "    </tr>\n",
       "    <tr>\n",
       "      <th>149</th>\n",
       "      <td>False</td>\n",
       "      <td>False</td>\n",
       "      <td>False</td>\n",
       "      <td>False</td>\n",
       "    </tr>\n",
       "  </tbody>\n",
       "</table>\n",
       "<p>150 rows × 4 columns</p>\n",
       "</div>"
      ],
      "text/plain": [
       "     sepal length (cm)  sepal width (cm)  petal length (cm)  petal width (cm)\n",
       "0                False             False              False             False\n",
       "1                False             False              False             False\n",
       "2                False             False              False             False\n",
       "3                False             False              False             False\n",
       "4                False             False              False             False\n",
       "..                 ...               ...                ...               ...\n",
       "145              False             False              False             False\n",
       "146              False             False              False             False\n",
       "147              False             False              False             False\n",
       "148              False             False              False             False\n",
       "149              False             False              False             False\n",
       "\n",
       "[150 rows x 4 columns]"
      ]
     },
     "execution_count": 237,
     "metadata": {},
     "output_type": "execute_result"
    }
   ],
   "source": [
    "df.isna()"
   ]
  },
  {
   "cell_type": "code",
   "execution_count": 238,
   "id": "9b66bace",
   "metadata": {},
   "outputs": [
    {
     "name": "stdout",
     "output_type": "stream",
     "text": [
      "<class 'pandas.core.frame.DataFrame'>\n",
      "RangeIndex: 150 entries, 0 to 149\n",
      "Data columns (total 4 columns):\n",
      " #   Column             Non-Null Count  Dtype  \n",
      "---  ------             --------------  -----  \n",
      " 0   sepal length (cm)  150 non-null    float64\n",
      " 1   sepal width (cm)   150 non-null    float64\n",
      " 2   petal length (cm)  150 non-null    float64\n",
      " 3   petal width (cm)   150 non-null    float64\n",
      "dtypes: float64(4)\n",
      "memory usage: 4.8 KB\n"
     ]
    }
   ],
   "source": [
    "df.info()"
   ]
  },
  {
   "cell_type": "code",
   "execution_count": 239,
   "id": "88d7f6e1",
   "metadata": {},
   "outputs": [
    {
     "data": {
      "text/plain": [
       "(150, 4)"
      ]
     },
     "execution_count": 239,
     "metadata": {},
     "output_type": "execute_result"
    }
   ],
   "source": [
    "df.shape"
   ]
  },
  {
   "cell_type": "code",
   "execution_count": 240,
   "id": "a5572447",
   "metadata": {},
   "outputs": [
    {
     "data": {
      "text/plain": [
       "Index(['sepal length (cm)', 'sepal width (cm)', 'petal length (cm)',\n",
       "       'petal width (cm)'],\n",
       "      dtype='object')"
      ]
     },
     "execution_count": 240,
     "metadata": {},
     "output_type": "execute_result"
    }
   ],
   "source": [
    "df.columns"
   ]
  },
  {
   "cell_type": "markdown",
   "id": "2834bbb3",
   "metadata": {},
   "source": [
    "# for visualization purpose i create a histograph "
   ]
  },
  {
   "cell_type": "code",
   "execution_count": 241,
   "id": "7455a9c0",
   "metadata": {},
   "outputs": [
    {
     "data": {
      "text/plain": [
       "array([[<Axes: title={'center': 'sepal length (cm)'}>]], dtype=object)"
      ]
     },
     "execution_count": 241,
     "metadata": {},
     "output_type": "execute_result"
    },
    {
     "data": {
      "image/png": "[encoded data removed]",
      "text/plain": [
       "<Figure size 640x480 with 1 Axes>"
      ]
     },
     "metadata": {},
     "output_type": "display_data"
    }
   ],
   "source": [
    "df.hist(column='sepal length (cm)', bins=50)"
   ]
  },
  {
   "cell_type": "code",
   "execution_count": 242,
   "id": "85f1cb60",
   "metadata": {},
   "outputs": [
    {
     "data": {
      "text/plain": [
       "array([[<Axes: title={'center': 'sepal width (cm)'}>]], dtype=object)"
      ]
     },
     "execution_count": 242,
     "metadata": {},
     "output_type": "execute_result"
    },
    {
     "data": {
      "image/png": "[encoded data removed]",
      "text/plain": [
       "<Figure size 640x480 with 1 Axes>"
      ]
     },
     "metadata": {},
     "output_type": "display_data"
    }
   ],
   "source": [
    "df.hist(column='sepal width (cm)', bins=50)"
   ]
  },
  {
   "cell_type": "code",
   "execution_count": 243,
   "id": "9bb09007",
   "metadata": {
    "scrolled": true
   },
   "outputs": [
    {
     "data": {
      "text/plain": [
       "array([[<Axes: title={'center': 'petal length (cm)'}>]], dtype=object)"
      ]
     },
     "execution_count": 243,
     "metadata": {},
     "output_type": "execute_result"
    },
    {
     "data": {
      "image/png": "[encoded data removed]",
      "text/plain": [
       "<Figure size 640x480 with 1 Axes>"
      ]
     },
     "metadata": {},
     "output_type": "display_data"
    }
   ],
   "source": [
    "df.hist(column='petal length (cm)', bins=50)"
   ]
  },
  {
   "cell_type": "code",
   "execution_count": 244,
   "id": "c9b0f313",
   "metadata": {},
   "outputs": [
    {
     "data": {
      "text/plain": [
       "array([[<Axes: title={'center': 'petal width (cm)'}>]], dtype=object)"
      ]
     },
     "execution_count": 244,
     "metadata": {},
     "output_type": "execute_result"
    },
    {
     "data": {
      "image/png": "[encoded data removed]",
      "text/plain": [
       "<Figure size 640x480 with 1 Axes>"
      ]
     },
     "metadata": {},
     "output_type": "display_data"
    }
   ],
   "source": [
    "df.hist(column='petal width (cm)', bins=50)"
   ]
  },
  {
   "cell_type": "markdown",
   "id": "01dc93da",
   "metadata": {},
   "source": [
    "# Create feature and target arrays"
   ]
  },
  {
   "cell_type": "markdown",
   "id": "2c19b11c",
   "metadata": {},
   "source": [
    "# In this data set there mention about feature_data or target_data so we don't need to create feature element and target element."
   ]
  },
  {
   "cell_type": "code",
   "execution_count": 292,
   "id": "397dda79",
   "metadata": {},
   "outputs": [],
   "source": [
    "X = irisData.data\n",
    "y = irisData.target"
   ]
  },
  {
   "cell_type": "code",
   "execution_count": 293,
   "id": "fb5b3e97",
   "metadata": {},
   "outputs": [
    {
     "data": {
      "text/plain": [
       "array([[5.1, 3.5, 1.4, 0.2],\n",
       "       [4.9, 3. , 1.4, 0.2],\n",
       "       [4.7, 3.2, 1.3, 0.2],\n",
       "       [4.6, 3.1, 1.5, 0.2],\n",
       "       [5. , 3.6, 1.4, 0.2],\n",
       "       [5.4, 3.9, 1.7, 0.4],\n",
       "       [4.6, 3.4, 1.4, 0.3],\n",
       "       [5. , 3.4, 1.5, 0.2],\n",
       "       [4.4, 2.9, 1.4, 0.2],\n",
       "       [4.9, 3.1, 1.5, 0.1],\n",
       "       [5.4, 3.7, 1.5, 0.2],\n",
       "       [4.8, 3.4, 1.6, 0.2],\n",
       "       [4.8, 3. , 1.4, 0.1],\n",
       "       [4.3, 3. , 1.1, 0.1],\n",
       "       [5.8, 4. , 1.2, 0.2],\n",
       "       [5.7, 4.4, 1.5, 0.4],\n",
       "       [5.4, 3.9, 1.3, 0.4],\n",
       "       [5.1, 3.5, 1.4, 0.3],\n",
       "       [5.7, 3.8, 1.7, 0.3],\n",
       "       [5.1, 3.8, 1.5, 0.3],\n",
       "       [5.4, 3.4, 1.7, 0.2],\n",
       "       [5.1, 3.7, 1.5, 0.4],\n",
       "       [4.6, 3.6, 1. , 0.2],\n",
       "       [5.1, 3.3, 1.7, 0.5],\n",
       "       [4.8, 3.4, 1.9, 0.2],\n",
       "       [5. , 3. , 1.6, 0.2],\n",
       "       [5. , 3.4, 1.6, 0.4],\n",
       "       [5.2, 3.5, 1.5, 0.2],\n",
       "       [5.2, 3.4, 1.4, 0.2],\n",
       "       [4.7, 3.2, 1.6, 0.2],\n",
       "       [4.8, 3.1, 1.6, 0.2],\n",
       "       [5.4, 3.4, 1.5, 0.4],\n",
       "       [5.2, 4.1, 1.5, 0.1],\n",
       "       [5.5, 4.2, 1.4, 0.2],\n",
       "       [4.9, 3.1, 1.5, 0.2],\n",
       "       [5. , 3.2, 1.2, 0.2],\n",
       "       [5.5, 3.5, 1.3, 0.2],\n",
       "       [4.9, 3.6, 1.4, 0.1],\n",
       "       [4.4, 3. , 1.3, 0.2],\n",
       "       [5.1, 3.4, 1.5, 0.2],\n",
       "       [5. , 3.5, 1.3, 0.3],\n",
       "       [4.5, 2.3, 1.3, 0.3],\n",
       "       [4.4, 3.2, 1.3, 0.2],\n",
       "       [5. , 3.5, 1.6, 0.6],\n",
       "       [5.1, 3.8, 1.9, 0.4],\n",
       "       [4.8, 3. , 1.4, 0.3],\n",
       "       [5.1, 3.8, 1.6, 0.2],\n",
       "       [4.6, 3.2, 1.4, 0.2],\n",
       "       [5.3, 3.7, 1.5, 0.2],\n",
       "       [5. , 3.3, 1.4, 0.2],\n",
       "       [7. , 3.2, 4.7, 1.4],\n",
       "       [6.4, 3.2, 4.5, 1.5],\n",
       "       [6.9, 3.1, 4.9, 1.5],\n",
       "       [5.5, 2.3, 4. , 1.3],\n",
       "       [6.5, 2.8, 4.6, 1.5],\n",
       "       [5.7, 2.8, 4.5, 1.3],\n",
       "       [6.3, 3.3, 4.7, 1.6],\n",
       "       [4.9, 2.4, 3.3, 1. ],\n",
       "       [6.6, 2.9, 4.6, 1.3],\n",
       "       [5.2, 2.7, 3.9, 1.4],\n",
       "       [5. , 2. , 3.5, 1. ],\n",
       "       [5.9, 3. , 4.2, 1.5],\n",
       "       [6. , 2.2, 4. , 1. ],\n",
       "       [6.1, 2.9, 4.7, 1.4],\n",
       "       [5.6, 2.9, 3.6, 1.3],\n",
       "       [6.7, 3.1, 4.4, 1.4],\n",
       "       [5.6, 3. , 4.5, 1.5],\n",
       "       [5.8, 2.7, 4.1, 1. ],\n",
       "       [6.2, 2.2, 4.5, 1.5],\n",
       "       [5.6, 2.5, 3.9, 1.1],\n",
       "       [5.9, 3.2, 4.8, 1.8],\n",
       "       [6.1, 2.8, 4. , 1.3],\n",
       "       [6.3, 2.5, 4.9, 1.5],\n",
       "       [6.1, 2.8, 4.7, 1.2],\n",
       "       [6.4, 2.9, 4.3, 1.3],\n",
       "       [6.6, 3. , 4.4, 1.4],\n",
       "       [6.8, 2.8, 4.8, 1.4],\n",
       "       [6.7, 3. , 5. , 1.7],\n",
       "       [6. , 2.9, 4.5, 1.5],\n",
       "       [5.7, 2.6, 3.5, 1. ],\n",
       "       [5.5, 2.4, 3.8, 1.1],\n",
       "       [5.5, 2.4, 3.7, 1. ],\n",
       "       [5.8, 2.7, 3.9, 1.2],\n",
       "       [6. , 2.7, 5.1, 1.6],\n",
       "       [5.4, 3. , 4.5, 1.5],\n",
       "       [6. , 3.4, 4.5, 1.6],\n",
       "       [6.7, 3.1, 4.7, 1.5],\n",
       "       [6.3, 2.3, 4.4, 1.3],\n",
       "       [5.6, 3. , 4.1, 1.3],\n",
       "       [5.5, 2.5, 4. , 1.3],\n",
       "       [5.5, 2.6, 4.4, 1.2],\n",
       "       [6.1, 3. , 4.6, 1.4],\n",
       "       [5.8, 2.6, 4. , 1.2],\n",
       "       [5. , 2.3, 3.3, 1. ],\n",
       "       [5.6, 2.7, 4.2, 1.3],\n",
       "       [5.7, 3. , 4.2, 1.2],\n",
       "       [5.7, 2.9, 4.2, 1.3],\n",
       "       [6.2, 2.9, 4.3, 1.3],\n",
       "       [5.1, 2.5, 3. , 1.1],\n",
       "       [5.7, 2.8, 4.1, 1.3],\n",
       "       [6.3, 3.3, 6. , 2.5],\n",
       "       [5.8, 2.7, 5.1, 1.9],\n",
       "       [7.1, 3. , 5.9, 2.1],\n",
       "       [6.3, 2.9, 5.6, 1.8],\n",
       "       [6.5, 3. , 5.8, 2.2],\n",
       "       [7.6, 3. , 6.6, 2.1],\n",
       "       [4.9, 2.5, 4.5, 1.7],\n",
       "       [7.3, 2.9, 6.3, 1.8],\n",
       "       [6.7, 2.5, 5.8, 1.8],\n",
       "       [7.2, 3.6, 6.1, 2.5],\n",
       "       [6.5, 3.2, 5.1, 2. ],\n",
       "       [6.4, 2.7, 5.3, 1.9],\n",
       "       [6.8, 3. , 5.5, 2.1],\n",
       "       [5.7, 2.5, 5. , 2. ],\n",
       "       [5.8, 2.8, 5.1, 2.4],\n",
       "       [6.4, 3.2, 5.3, 2.3],\n",
       "       [6.5, 3. , 5.5, 1.8],\n",
       "       [7.7, 3.8, 6.7, 2.2],\n",
       "       [7.7, 2.6, 6.9, 2.3],\n",
       "       [6. , 2.2, 5. , 1.5],\n",
       "       [6.9, 3.2, 5.7, 2.3],\n",
       "       [5.6, 2.8, 4.9, 2. ],\n",
       "       [7.7, 2.8, 6.7, 2. ],\n",
       "       [6.3, 2.7, 4.9, 1.8],\n",
       "       [6.7, 3.3, 5.7, 2.1],\n",
       "       [7.2, 3.2, 6. , 1.8],\n",
       "       [6.2, 2.8, 4.8, 1.8],\n",
       "       [6.1, 3. , 4.9, 1.8],\n",
       "       [6.4, 2.8, 5.6, 2.1],\n",
       "       [7.2, 3. , 5.8, 1.6],\n",
       "       [7.4, 2.8, 6.1, 1.9],\n",
       "       [7.9, 3.8, 6.4, 2. ],\n",
       "       [6.4, 2.8, 5.6, 2.2],\n",
       "       [6.3, 2.8, 5.1, 1.5],\n",
       "       [6.1, 2.6, 5.6, 1.4],\n",
       "       [7.7, 3. , 6.1, 2.3],\n",
       "       [6.3, 3.4, 5.6, 2.4],\n",
       "       [6.4, 3.1, 5.5, 1.8],\n",
       "       [6. , 3. , 4.8, 1.8],\n",
       "       [6.9, 3.1, 5.4, 2.1],\n",
       "       [6.7, 3.1, 5.6, 2.4],\n",
       "       [6.9, 3.1, 5.1, 2.3],\n",
       "       [5.8, 2.7, 5.1, 1.9],\n",
       "       [6.8, 3.2, 5.9, 2.3],\n",
       "       [6.7, 3.3, 5.7, 2.5],\n",
       "       [6.7, 3. , 5.2, 2.3],\n",
       "       [6.3, 2.5, 5. , 1.9],\n",
       "       [6.5, 3. , 5.2, 2. ],\n",
       "       [6.2, 3.4, 5.4, 2.3],\n",
       "       [5.9, 3. , 5.1, 1.8]])"
      ]
     },
     "execution_count": 293,
     "metadata": {},
     "output_type": "execute_result"
    }
   ],
   "source": [
    "X"
   ]
  },
  {
   "cell_type": "code",
   "execution_count": 294,
   "id": "2aaaf10c",
   "metadata": {},
   "outputs": [
    {
     "data": {
      "text/plain": [
       "array([0, 0, 0, 0, 0, 0, 0, 0, 0, 0, 0, 0, 0, 0, 0, 0, 0, 0, 0, 0, 0, 0,\n",
       "       0, 0, 0, 0, 0, 0, 0, 0, 0, 0, 0, 0, 0, 0, 0, 0, 0, 0, 0, 0, 0, 0,\n",
       "       0, 0, 0, 0, 0, 0, 1, 1, 1, 1, 1, 1, 1, 1, 1, 1, 1, 1, 1, 1, 1, 1,\n",
       "       1, 1, 1, 1, 1, 1, 1, 1, 1, 1, 1, 1, 1, 1, 1, 1, 1, 1, 1, 1, 1, 1,\n",
       "       1, 1, 1, 1, 1, 1, 1, 1, 1, 1, 1, 1, 2, 2, 2, 2, 2, 2, 2, 2, 2, 2,\n",
       "       2, 2, 2, 2, 2, 2, 2, 2, 2, 2, 2, 2, 2, 2, 2, 2, 2, 2, 2, 2, 2, 2,\n",
       "       2, 2, 2, 2, 2, 2, 2, 2, 2, 2, 2, 2, 2, 2, 2, 2, 2, 2])"
      ]
     },
     "execution_count": 294,
     "metadata": {},
     "output_type": "execute_result"
    }
   ],
   "source": [
    "y"
   ]
  },
  {
   "cell_type": "markdown",
   "id": "5cb302b5",
   "metadata": {},
   "source": [
    "# Here the data is in well formate then normalisation and standardization is not required"
   ]
  },
  {
   "cell_type": "markdown",
   "id": "53a69116",
   "metadata": {},
   "source": [
    "# Split data into training data_set  and test data_set"
   ]
  },
  {
   "cell_type": "code",
   "execution_count": 377,
   "id": "5856651e",
   "metadata": {},
   "outputs": [
    {
     "name": "stdout",
     "output_type": "stream",
     "text": [
      "Train set: (120, 4) (120,)\n",
      "Test set: (30, 4) (30,)\n"
     ]
    }
   ],
   "source": [
    "X_train, X_test, y_train, y_test = train_test_split(\n",
    "             X, y, test_size = 0.2, random_state=42)\n",
    "  \n",
    "neighbors = np.arange(1, 9)\n",
    "train_accuracy = np.empty(len(neighbors))\n",
    "test_accuracy = np.empty(len(neighbors))\n",
    "print ('Train set:', X_train.shape,  y_train.shape)\n",
    "print ('Test set:', X_test.shape,  y_test.shape)"
   ]
  },
  {
   "cell_type": "code",
   "execution_count": 378,
   "id": "2698ff36",
   "metadata": {},
   "outputs": [
    {
     "data": {
      "text/plain": [
       "array([[-5.32043986e-01,  4.41168861e-01, -5.53606470e-01,\n",
       "        -4.64563354e-01],\n",
       "       [-4.94454055e-02,  8.79951412e-01, -3.65384074e-01,\n",
       "        -2.99558246e-01],\n",
       "       [ 9.13904876e-01,  8.64748035e-02,  3.21270676e-01,\n",
       "         2.32562119e-01],\n",
       "       [-5.41258948e-01,  3.37726866e-01, -5.25146385e-01,\n",
       "        -5.63205637e-01],\n",
       "       [-6.68275076e-01,  1.25493976e-01, -5.33847772e-01,\n",
       "        -5.02659169e-01],\n",
       "       [ 3.04547375e-01, -7.06126173e-01,  3.88529570e-01,\n",
       "         5.07623381e-01],\n",
       "       [ 7.12053915e-01,  3.46698466e-01,  4.45213681e-01,\n",
       "         4.17808776e-01],\n",
       "       [-3.47792864e-01,  4.54645792e-01, -5.72605458e-01,\n",
       "        -5.86907418e-01],\n",
       "       [-4.12677866e-01,  5.04494922e-01, -5.41255901e-01,\n",
       "        -5.31247496e-01],\n",
       "       [-2.45163346e-01,  7.54877914e-01, -4.03636431e-01,\n",
       "        -4.55117458e-01],\n",
       "       [-3.61310896e-02, -5.66036237e-01,  5.24878049e-01,\n",
       "         6.34665704e-01],\n",
       "       [ 1.79832828e-01,  7.47267291e-01,  3.99524308e-01,\n",
       "         4.99631942e-01],\n",
       "       [ 8.39067440e-01,  7.93935933e-02,  4.32795599e-01,\n",
       "         3.19922582e-01],\n",
       "       [-2.01454197e-01,  7.27467324e-01, -5.23931783e-01,\n",
       "        -3.94592176e-01],\n",
       "       [-2.22007198e-01,  6.11412322e-01, -5.30404915e-01,\n",
       "        -5.43652833e-01],\n",
       "       [-2.61406129e-01, -9.50817563e-01, -2.07145128e-02,\n",
       "        -1.64874821e-01],\n",
       "       [ 4.68401879e-01, -5.01449387e-01,  6.45682128e-01,\n",
       "         3.35026540e-01],\n",
       "       [ 4.68802515e-01,  6.82645410e-02,  6.88160595e-01,\n",
       "         5.49544494e-01],\n",
       "       [ 8.90120857e-01, -1.28133683e-01,  3.54263441e-01,\n",
       "         2.56444993e-01],\n",
       "       [ 5.48988647e-01,  4.17191161e-01,  4.44553500e-01,\n",
       "         5.71782465e-01],\n",
       "       [-3.53038631e-01, -7.36219840e-01,  5.10674571e-01,\n",
       "         2.69361382e-01],\n",
       "       [ 7.27391657e-01, -4.51022170e-02,  5.52013835e-01,\n",
       "         4.05151693e-01],\n",
       "       [-4.45074428e-01, -1.99227815e-01,  6.36622342e-01,\n",
       "         5.97435373e-01],\n",
       "       [-3.88448533e-01,  4.39479317e-01, -5.78017000e-01,\n",
       "        -5.67328843e-01],\n",
       "       [ 7.36953002e-01, -1.94049997e-01,  5.47766482e-01,\n",
       "         3.45248828e-01],\n",
       "       [-5.92237034e-02, -9.27809335e-01,  2.19253484e-01,\n",
       "        -2.95956584e-01],\n",
       "       [-3.57422296e-01,  3.61683910e-01, -6.14520422e-01,\n",
       "        -6.03157278e-01],\n",
       "       [-4.38285637e-01,  4.37065509e-01, -5.99220668e-01,\n",
       "        -5.07753909e-01],\n",
       "       [-3.69049743e-01,  7.00498120e-01, -4.32707021e-01,\n",
       "        -4.31125624e-01],\n",
       "       [-3.84615430e-01, -9.16117342e-01, -5.51942805e-02,\n",
       "        -9.87602042e-02],\n",
       "       [ 3.88433852e-01, -5.77434906e-01,  4.55649394e-01,\n",
       "         5.55042072e-01],\n",
       "       [-5.61666143e-01,  3.50460250e-01, -4.69188983e-01,\n",
       "        -5.84440292e-01],\n",
       "       [-4.92984814e-01, -6.36726918e-02, -5.91742346e-01,\n",
       "        -6.34628047e-01],\n",
       "       [-4.92911085e-01,  3.05708029e-01, -6.40143413e-01,\n",
       "        -5.03783360e-01],\n",
       "       [-3.20893036e-01, -8.95249239e-01,  2.73418496e-01,\n",
       "         1.44217840e-01],\n",
       "       [-4.10635771e-01,  3.59630713e-01, -5.85118786e-01,\n",
       "        -5.99733291e-01],\n",
       "       [-5.22002095e-01, -3.96683358e-01,  7.55082227e-01,\n",
       "         2.63759675e-03],\n",
       "       [ 6.35927338e-01,  4.83258198e-01,  4.72675571e-01,\n",
       "         3.72338205e-01],\n",
       "       [-6.20011357e-01,  1.35159422e-01, -5.51572750e-01,\n",
       "        -5.41373576e-01],\n",
       "       [ 6.58741538e-01, -5.52058389e-01,  4.69568274e-01,\n",
       "         2.01982074e-01],\n",
       "       [-9.58185849e-02, -7.07830567e-01,  3.89467373e-01,\n",
       "         5.81472142e-01],\n",
       "       [-1.27664565e-01,  8.07208453e-01, -4.11287143e-01,\n",
       "        -4.03682001e-01],\n",
       "       [ 1.87102020e-01, -1.30083080e-01,  5.83736066e-01,\n",
       "         7.79309587e-01],\n",
       "       [-3.61310896e-02, -5.66036237e-01,  5.24878049e-01,\n",
       "         6.34665704e-01],\n",
       "       [ 9.46935660e-02, -9.84476426e-01,  6.86129620e-02,\n",
       "        -1.30887572e-01],\n",
       "       [-6.71223028e-01, -1.64913192e-01,  5.26971709e-01,\n",
       "         4.94534230e-01],\n",
       "       [ 2.22308625e-01,  4.05767624e-01,  4.80080289e-01,\n",
       "         7.45288150e-01],\n",
       "       [-2.30802025e-01, -9.67213748e-01,  7.63107892e-02,\n",
       "         7.35163517e-02],\n",
       "       [-2.10267532e-01,  7.59292989e-01, -4.57861509e-01,\n",
       "        -4.11855024e-01],\n",
       "       [-4.97423644e-01, -8.48644839e-01, -1.26718368e-01,\n",
       "        -1.27726703e-01],\n",
       "       [ 4.06713586e-01, -4.95996643e-01,  5.28475393e-01,\n",
       "         5.56134110e-01],\n",
       "       [-4.62435621e-01,  2.52798144e-01, -6.06516678e-01,\n",
       "        -5.95301532e-01],\n",
       "       [-4.57156059e-01,  1.46926276e-01, -6.50448156e-01,\n",
       "        -5.88505058e-01],\n",
       "       [-2.64145961e-01, -9.60783207e-01,  1.51573831e-02,\n",
       "        -8.30228479e-02],\n",
       "       [ 7.28980432e-01, -9.26878776e-02,  4.95761197e-01,\n",
       "         4.62836172e-01],\n",
       "       [-5.27592846e-01,  4.53350580e-02, -5.92385730e-01,\n",
       "        -6.07181742e-01],\n",
       "       [-2.83368708e-02, -3.19696279e-01,  4.11651064e-01,\n",
       "         8.52956454e-01],\n",
       "       [-4.54992901e-01,  3.51227860e-01, -5.71447353e-01,\n",
       "        -5.85720388e-01],\n",
       "       [-4.98056484e-01,  4.96669963e-01, -5.97830002e-01,\n",
       "        -3.84523049e-01],\n",
       "       [ 6.58118036e-02,  3.14782358e-01,  5.67663249e-01,\n",
       "         7.57851773e-01],\n",
       "       [-5.52250251e-01, -7.86645523e-01, -2.64160850e-01,\n",
       "        -8.01718557e-02],\n",
       "       [ 5.68923524e-01,  1.45931868e-01,  4.90469542e-01,\n",
       "         6.43793090e-01],\n",
       "       [ 1.51374605e-01, -6.55936341e-01,  6.08241248e-01,\n",
       "         4.20566082e-01],\n",
       "       [ 2.01976154e-01, -6.83715190e-01,  6.79934672e-01,\n",
       "         1.71545953e-01],\n",
       "       [ 7.52006370e-01, -4.41170551e-02,  4.44960442e-01,\n",
       "         4.84303944e-01],\n",
       "       [-3.05399737e-01, -9.41845030e-01,  1.00975262e-01,\n",
       "         9.72776319e-02],\n",
       "       [-6.74823225e-01, -1.39751303e-01, -5.17147124e-01,\n",
       "        -5.07584516e-01],\n",
       "       [-6.65713698e-01, -4.69836435e-02, -5.37810984e-01,\n",
       "        -5.15147702e-01],\n",
       "       [ 8.86443969e-02, -9.21586575e-01,  3.29642513e-01,\n",
       "         1.84813879e-01],\n",
       "       [ 7.30845200e-01,  1.46011311e-01,  5.66545489e-01,\n",
       "         3.51528377e-01],\n",
       "       [-6.33420698e-01,  4.12957285e-02, -5.39604478e-01,\n",
       "        -5.53082173e-01],\n",
       "       [-4.00908435e-01,  4.53576086e-01, -5.96557514e-01,\n",
       "        -5.26934809e-01],\n",
       "       [-6.72731661e-01, -5.07684801e-02, -5.37407890e-01,\n",
       "        -5.06011297e-01],\n",
       "       [ 3.47869469e-01, -8.06573156e-01,  4.08065651e-01,\n",
       "         2.48815194e-01],\n",
       "       [ 2.60198290e-01,  3.70927241e-01,  4.92313432e-01,\n",
       "         7.43193996e-01],\n",
       "       [-6.10501005e-01,  3.19655668e-01, -5.43112178e-01,\n",
       "        -4.79726942e-01],\n",
       "       [ 5.98835097e-01, -6.81813411e-02,  5.11495348e-01,\n",
       "         6.12470685e-01],\n",
       "       [ 2.43277495e-01,  2.45597810e-01,  5.60254256e-01,\n",
       "         7.52736969e-01],\n",
       "       [-5.79790671e-01,  1.37446161e-01, -5.84692025e-01,\n",
       "        -5.50532985e-01],\n",
       "       [ 4.06845899e-01, -4.73797712e-01,  7.00419629e-01,\n",
       "         3.45549542e-01],\n",
       "       [ 6.79869680e-01, -5.06160781e-01,  4.08921295e-01,\n",
       "         3.38174299e-01],\n",
       "       [ 3.51274111e-01, -4.81494588e-01,  4.81391340e-01,\n",
       "         6.42675532e-01],\n",
       "       [ 8.99342920e-01,  2.10742126e-01,  3.43569764e-01,\n",
       "         1.69498925e-01],\n",
       "       [ 3.64193437e-01,  1.77325485e-01,  4.73225574e-01,\n",
       "         7.82289185e-01],\n",
       "       [-3.41187594e-01,  6.47612613e-01, -4.64630802e-01,\n",
       "        -4.98304271e-01],\n",
       "       [ 6.46217910e-01,  4.95725707e-02,  4.71043559e-01,\n",
       "         5.98383605e-01],\n",
       "       [ 1.39608877e-01, -2.68351671e-01,  5.10804332e-01,\n",
       "         8.04720869e-01],\n",
       "       [ 5.10104622e-01, -8.46122459e-02,  5.25444053e-01,\n",
       "         6.75679354e-01],\n",
       "       [-1.56671036e-01, -9.49699290e-01, -1.32284254e-01,\n",
       "        -2.36698800e-01],\n",
       "       [-6.68292772e-01, -7.05205976e-01,  6.91936097e-02,\n",
       "         2.26454293e-01],\n",
       "       [ 4.83964850e-01, -2.05382429e-01,  7.44737761e-01,\n",
       "         4.11049571e-01],\n",
       "       [-5.41305381e-01, -5.79772175e-01, -4.64608729e-01,\n",
       "        -3.93689522e-01],\n",
       "       [ 8.30626772e-01, -3.28120836e-01,  4.33571121e-01,\n",
       "         1.20049850e-01],\n",
       "       [-3.49781737e-01, -8.85168112e-01,  3.06805486e-01,\n",
       "         7.37843938e-04],\n",
       "       [-2.68779190e-01,  6.03985914e-01, -5.23962449e-01,\n",
       "        -5.37049453e-01],\n",
       "       [-7.37809838e-01, -3.30264407e-01,  4.86424987e-01,\n",
       "         3.31591308e-01],\n",
       "       [ 7.23033648e-01, -1.48364779e-01,  5.91862475e-01,\n",
       "         3.23896661e-01],\n",
       "       [ 5.18134836e-01,  2.78838535e-01,  5.50968897e-01,\n",
       "         5.91792732e-01],\n",
       "       [-3.75478950e-01,  6.16736290e-01, -5.35023499e-01,\n",
       "        -4.38636253e-01],\n",
       "       [-5.91613513e-01, -7.83195717e-01, -1.34736517e-01,\n",
       "        -1.35808655e-01],\n",
       "       [ 4.41041431e-01,  2.37350083e-01,  4.68990105e-01,\n",
       "         7.27458367e-01],\n",
       "       [ 7.88630910e-01, -6.33168902e-02,  5.56805238e-01,\n",
       "         2.53022106e-01],\n",
       "       [-4.39712034e-01,  4.80560487e-01, -5.15577439e-01,\n",
       "        -5.56682001e-01],\n",
       "       [ 4.79763494e-01,  4.53958120e-02,  4.83895841e-01,\n",
       "         7.30486841e-01],\n",
       "       [-5.18990113e-01, -5.99256619e-02, -6.08533706e-01,\n",
       "        -5.97281262e-01],\n",
       "       [ 8.57982744e-01,  6.58174427e-02,  4.34964270e-01,\n",
       "         2.65216440e-01],\n",
       "       [ 7.38054986e-01, -2.31793302e-01,  5.20867088e-01,\n",
       "         3.60893585e-01],\n",
       "       [ 3.76617319e-01, -2.46509388e-01,  7.12586409e-01,\n",
       "         5.38157157e-01],\n",
       "       [-2.62897307e-01, -8.96699084e-01,  2.94246955e-01,\n",
       "         2.00585363e-01],\n",
       "       [ 5.29742315e-01, -8.78695958e-02,  6.59196325e-01,\n",
       "         5.26414494e-01],\n",
       "       [ 2.95930660e-01, -9.32372522e-01,  1.95151823e-01,\n",
       "         7.08681264e-02],\n",
       "       [ 8.07000560e-01, -4.33322367e-01,  3.68574122e-01,\n",
       "         1.58540024e-01],\n",
       "       [-2.10070054e-01, -4.22056245e-01,  4.62461495e-01,\n",
       "         7.50911755e-01],\n",
       "       [ 6.19330858e-02, -1.19045775e-01,  6.88009606e-01,\n",
       "         7.13186637e-01],\n",
       "       [-2.68273668e-01,  3.93941073e-01, -5.84170961e-01,\n",
       "        -6.56950499e-01],\n",
       "       [ 4.46979902e-01, -8.51385627e-01,  1.97688235e-01,\n",
       "         1.90449057e-01],\n",
       "       [-6.05400499e-01, -6.79523305e-01,  2.23371846e-01,\n",
       "         3.49060643e-01],\n",
       "       [-1.79505821e-02,  7.41867478e-01, -4.97054389e-01,\n",
       "        -4.49719196e-01],\n",
       "       [-4.93936912e-02, -9.90362037e-01,  1.29393269e-01,\n",
       "         8.25529768e-04],\n",
       "       [ 6.66219024e-01, -5.77451974e-02,  5.32676251e-01,\n",
       "         5.18723158e-01]])"
      ]
     },
     "execution_count": 378,
     "metadata": {},
     "output_type": "execute_result"
    }
   ],
   "source": [
    "X_train"
   ]
  },
  {
   "cell_type": "code",
   "execution_count": 379,
   "id": "0428a3f1",
   "metadata": {},
   "outputs": [
    {
     "data": {
      "text/plain": [
       "array([0, 0, 1, 0, 0, 2, 1, 0, 0, 0, 2, 1, 1, 0, 0, 1, 2, 2, 1, 2, 1, 2,\n",
       "       1, 0, 2, 1, 0, 0, 0, 1, 2, 0, 0, 0, 1, 0, 1, 2, 0, 1, 2, 0, 2, 2,\n",
       "       1, 1, 2, 1, 0, 1, 2, 0, 0, 1, 1, 0, 2, 0, 0, 1, 1, 2, 1, 2, 2, 1,\n",
       "       0, 0, 2, 2, 0, 0, 0, 1, 2, 0, 2, 2, 0, 1, 1, 2, 1, 2, 0, 2, 1, 2,\n",
       "       1, 1, 1, 0, 1, 1, 0, 1, 2, 2, 0, 1, 2, 2, 0, 2, 0, 1, 2, 2, 1, 2,\n",
       "       1, 1, 2, 2, 0, 1, 2, 0, 1, 2])"
      ]
     },
     "execution_count": 379,
     "metadata": {},
     "output_type": "execute_result"
    }
   ],
   "source": [
    "y_train"
   ]
  },
  {
   "cell_type": "code",
   "execution_count": 380,
   "id": "f4fee174",
   "metadata": {},
   "outputs": [
    {
     "data": {
      "text/plain": [
       "array([[ 0.36293063, -0.69129266,  0.62481579,  0.00102409],\n",
       "       [-0.07260074,  0.71466009, -0.48897444, -0.49486775],\n",
       "       [ 0.66461886, -0.31101642,  0.52758426,  0.42802501],\n",
       "       [ 0.26800356, -0.51132431,  0.59540818,  0.55875813],\n",
       "       [ 0.79704218, -0.40731317,  0.40722583,  0.18162286],\n",
       "       [-0.28059763,  0.41203794, -0.67038529, -0.54961192],\n",
       "       [-0.5972243 , -0.73361525, -0.18190301,  0.26840844],\n",
       "       [ 0.61530435,  0.04720113,  0.36656536,  0.69627757],\n",
       "       [ 0.20564907, -0.93912993,  0.20068507,  0.188332  ],\n",
       "       [-0.06339887, -0.9932182 ,  0.09745288,  0.0010596 ],\n",
       "       [ 0.51005219,  0.21052511,  0.48895523,  0.6756099 ],\n",
       "       [-0.53876526, -0.05624649, -0.57117243, -0.61670932],\n",
       "       [-0.18805658,  0.46063945, -0.63154074, -0.59464469],\n",
       "       [-0.50827102,  0.04367477, -0.57069102, -0.6434787 ],\n",
       "       [-0.34584232,  0.6564478 , -0.49279398, -0.45455854],\n",
       "       [ 0.50872893,  0.51358105,  0.49224913,  0.48489192],\n",
       "       [ 0.41184042, -0.06831293,  0.60074016,  0.68178594],\n",
       "       [-0.22246433, -0.96802272,  0.06089674, -0.09865711],\n",
       "       [-0.22873893, -0.78019051,  0.55544839,  0.1745232 ],\n",
       "       [ 0.35368207, -0.31061728,  0.5489773 ,  0.69068794],\n",
       "       [-0.60393452,  0.14316974, -0.53470637, -0.57345847],\n",
       "       [ 0.28867839, -0.1225078 ,  0.6025011 ,  0.73392714],\n",
       "       [-0.49405034,  0.38137791, -0.59302132, -0.50871491],\n",
       "       [ 0.37087822, -0.32571961,  0.57566877,  0.65189075],\n",
       "       [ 0.70488923,  0.48357367,  0.42475325,  0.29811466],\n",
       "       [ 0.52793932, -0.06712605,  0.41685434,  0.73688983],\n",
       "       [ 0.47901771, -0.59206101,  0.53560222,  0.36487814],\n",
       "       [ 0.51670301,  0.14639108,  0.54268366,  0.64581894],\n",
       "       [-0.576227  , -0.06015746, -0.61088752, -0.5395924 ],\n",
       "       [-0.57447324,  0.04463209, -0.55737193, -0.59776668]])"
      ]
     },
     "execution_count": 380,
     "metadata": {},
     "output_type": "execute_result"
    }
   ],
   "source": [
    "X_test\n"
   ]
  },
  {
   "cell_type": "code",
   "execution_count": 381,
   "id": "80775850",
   "metadata": {},
   "outputs": [
    {
     "data": {
      "text/plain": [
       "array([1, 0, 2, 1, 1, 0, 1, 2, 1, 1, 2, 0, 0, 0, 0, 1, 2, 1, 1, 2, 0, 2,\n",
       "       0, 2, 2, 2, 2, 2, 0, 0])"
      ]
     },
     "execution_count": 381,
     "metadata": {},
     "output_type": "execute_result"
    }
   ],
   "source": [
    "y_test"
   ]
  },
  {
   "cell_type": "code",
   "execution_count": 382,
   "id": "71519965",
   "metadata": {},
   "outputs": [
    {
     "name": "stdout",
     "output_type": "stream",
     "text": [
      "Train set: (120, 4) (120,)\n",
      "Test set: (30, 4) (30,)\n"
     ]
    }
   ],
   "source": [
    "print ('Train set:', X_train.shape,  y_train.shape)\n",
    "print ('Test set:', X_test.shape,  y_test.shape)"
   ]
  },
  {
   "cell_type": "markdown",
   "id": "63d9a5a8",
   "metadata": {},
   "source": [
    "# Loop over K values: for using the loop we find the k neighrest -neighbour value and fitting with training data\n"
   ]
  },
  {
   "cell_type": "code",
   "execution_count": 388,
   "id": "bae048b1",
   "metadata": {},
   "outputs": [],
   "source": [
    "for i, k in enumerate(neighbors):\n",
    "    knn = KNeighborsClassifier(n_neighbors=k)\n",
    "    knn.fit(X_train, y_train)"
   ]
  },
  {
   "cell_type": "code",
   "execution_count": 389,
   "id": "8ea32d69",
   "metadata": {},
   "outputs": [],
   "source": [
    "train_accuracy[i] = knn.score(X_train, y_train)\n",
    "test_accuracy[i] = knn.score(X_test, y_test)"
   ]
  },
  {
   "cell_type": "markdown",
   "id": "888a2640",
   "metadata": {},
   "source": [
    "# plotting the graph of testing dataset accuracy and trainning dataset accurancy \n",
    "# the orange line indicate the trainning dataset accuracy and blue line indicate test dataset accuracy they overlapping each other due to accuracy "
   ]
  },
  {
   "cell_type": "code",
   "execution_count": 393,
   "id": "acae14b8",
   "metadata": {},
   "outputs": [
    {
     "data": {
      "image/png": "[encoded data removed]",
      "text/plain": [
       "<Figure size 640x480 with 1 Axes>"
      ]
     },
     "metadata": {},
     "output_type": "display_data"
    }
   ],
   "source": [
    "plt.plot(neighbors, test_accuracy, label = 'Testing dataset Accuracy')\n",
    "plt.plot(neighbors, train_accuracy, label = 'Training dataset Accuracy')\n",
    "  \n",
    "plt.legend()\n",
    "plt.xlabel('n_neighbors')\n",
    "plt.ylabel('Accuracy')\n",
    "plt.show()"
   ]
  },
  {
   "cell_type": "code",
   "execution_count": 391,
   "id": "681e7e78",
   "metadata": {},
   "outputs": [
    {
     "data": {
      "text/plain": [
       "0.8666666666666667"
      ]
     },
     "execution_count": 391,
     "metadata": {},
     "output_type": "execute_result"
    }
   ],
   "source": [
    "test_accuracy[i]"
   ]
  },
  {
   "cell_type": "code",
   "execution_count": 392,
   "id": "86144e4d",
   "metadata": {},
   "outputs": [
    {
     "data": {
      "text/plain": [
       "0.8916666666666667"
      ]
     },
     "execution_count": 392,
     "metadata": {},
     "output_type": "execute_result"
    }
   ],
   "source": [
    "train_accuracy[i]"
   ]
  },
  {
   "cell_type": "code",
   "execution_count": null,
   "id": "2cee5726",
   "metadata": {},
   "outputs": [],
   "source": []
  }
 ],
 "metadata": {
  "kernelspec": {
   "display_name": "Python 3 (ipykernel)",
   "language": "python",
   "name": "python3"
  },
  "language_info": {
   "codemirror_mode": {
    "name": "ipython",
    "version": 3
   },
   "file_extension": ".py",
   "mimetype": "text/x-python",
   "name": "python",
   "nbconvert_exporter": "python",
   "pygments_lexer": "ipython3",
   "version": "3.11.5"
  }
 },
 "nbformat": 4,
 "nbformat_minor": 5
}
